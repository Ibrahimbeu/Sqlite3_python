{
 "cells": [
  {
   "cell_type": "code",
   "execution_count": 3,
   "metadata": {},
   "outputs": [],
   "source": [
    "import sqlite3"
   ]
  },
  {
   "cell_type": "code",
   "execution_count": 15,
   "metadata": {},
   "outputs": [],
   "source": [
    "con=sqlite3.connect(\"information.db\")\n",
    "cursor=con.cursor()"
   ]
  },
  {
   "cell_type": "code",
   "execution_count": 16,
   "metadata": {},
   "outputs": [
    {
     "data": {
      "text/plain": [
       "<sqlite3.Cursor at 0x1f5e19efb90>"
      ]
     },
     "execution_count": 16,
     "metadata": {},
     "output_type": "execute_result"
    }
   ],
   "source": [
    "cursor.execute(\"\"\"CREATE TABLE INFO \n",
    "            (Name      TEXT,\n",
    "             Job_Title TEXT,\n",
    "             Salary    INT,\n",
    "             Adress CHAR(50))\"\"\")\n"
   ]
  },
  {
   "cell_type": "code",
   "execution_count": 53,
   "metadata": {},
   "outputs": [],
   "source": [
    "cursor.execute(\"INSERT INTO INFO VALUES('Rustamov','Data Engineer',100000,'Baku')\")\n",
    "cursor.execute(\"INSERT INTO INFO VALUES('Qedirli','Software Developer',30000,'Ganja')\")\n",
    "cursor.execute(\"INSERT INTO INFO VALUES('Aliyev','CEO',1000000,'Shusha')\")\n",
    "con.commit()"
   ]
  },
  {
   "cell_type": "code",
   "execution_count": 54,
   "metadata": {},
   "outputs": [
    {
     "name": "stdout",
     "output_type": "stream",
     "text": [
      "\n",
      "        Name: Rustamov\n",
      "\n",
      "        Job: Data Engineer\n",
      "\n",
      "        Salary: 100000\n",
      "\n",
      "        Adress: Baku\n",
      "\n",
      "\n",
      "______________________________\n",
      "\n",
      "        Name: Qedirli\n",
      "\n",
      "        Job: Software Developer\n",
      "\n",
      "        Salary: 30000\n",
      "\n",
      "        Adress: Ganja\n",
      "\n",
      "\n",
      "______________________________\n",
      "\n",
      "        Name: Aliyev\n",
      "\n",
      "        Job: CEO\n",
      "\n",
      "        Salary: 1000000\n",
      "\n",
      "        Adress: Shusha\n",
      "\n",
      "\n",
      "______________________________\n"
     ]
    }
   ],
   "source": [
    "def informations():\n",
    "    cursor.execute(\"SELECT * FROM INFO\")\n",
    "    arr= cursor.fetchall()\n",
    "    for i in arr:\n",
    "        print(\"\"\"\n",
    "        Name: {0}\\n\n",
    "        Job: {1}\\n\n",
    "        Salary: {2}\\n\n",
    "        Adress: {3}\\n\\n\"\"\".format(i[0],i[1],i[2],i[3]))\n",
    "        print(\"_\"*30)\n",
    "informations()"
   ]
  },
  {
   "cell_type": "code",
   "execution_count": 55,
   "metadata": {},
   "outputs": [
    {
     "name": "stdout",
     "output_type": "stream",
     "text": [
      "\n",
      "        Name: Rustamov\n",
      "\n",
      "        Job: Data Engineer\n",
      "\n",
      "        Salary: 500000\n",
      "\n",
      "        Adress: Baku\n",
      "\n",
      "\n",
      "______________________________\n",
      "\n",
      "        Name: Qedirli\n",
      "\n",
      "        Job: Software Developer\n",
      "\n",
      "        Salary: 30000\n",
      "\n",
      "        Adress: Ganja\n",
      "\n",
      "\n",
      "______________________________\n",
      "\n",
      "        Name: Aliyev\n",
      "\n",
      "        Job: CEO\n",
      "\n",
      "        Salary: 1000000\n",
      "\n",
      "        Adress: Shusha\n",
      "\n",
      "\n",
      "______________________________\n"
     ]
    }
   ],
   "source": [
    "cursor.execute(\"UPDATE INFO SET Salary=500000 WHERE Name=='Rustamov'\")\n",
    "con.commit()\n",
    "informations()"
   ]
  },
  {
   "cell_type": "code",
   "execution_count": 56,
   "metadata": {},
   "outputs": [
    {
     "name": "stdout",
     "output_type": "stream",
     "text": [
      "\n",
      "        Name: Rustamov\n",
      "\n",
      "        Job: Data Engineer\n",
      "\n",
      "        Salary: 500000\n",
      "\n",
      "        Adress: Baku\n",
      "\n",
      "\n",
      "______________________________\n",
      "\n",
      "        Name: Aliyev\n",
      "\n",
      "        Job: CEO\n",
      "\n",
      "        Salary: 1000000\n",
      "\n",
      "        Adress: Shusha\n",
      "\n",
      "\n",
      "______________________________\n"
     ]
    }
   ],
   "source": [
    "cursor.execute(\"DELETE FROM INFO WHERE Name=='Qedirli'\")\n",
    "con.commit()\n",
    "informations()"
   ]
  },
  {
   "cell_type": "code",
   "execution_count": null,
   "metadata": {},
   "outputs": [],
   "source": []
  }
 ],
 "metadata": {
  "kernelspec": {
   "display_name": "Python 3",
   "language": "python",
   "name": "python3"
  },
  "language_info": {
   "codemirror_mode": {
    "name": "ipython",
    "version": 3
   },
   "file_extension": ".py",
   "mimetype": "text/x-python",
   "name": "python",
   "nbconvert_exporter": "python",
   "pygments_lexer": "ipython3",
   "version": "3.7.7"
  }
 },
 "nbformat": 4,
 "nbformat_minor": 4
}
